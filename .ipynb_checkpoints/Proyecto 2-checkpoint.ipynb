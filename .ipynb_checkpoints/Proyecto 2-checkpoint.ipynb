{
 "cells": [
  {
   "cell_type": "markdown",
   "metadata": {},
   "source": [
    "# Proyecto 2\n",
    "Estuardo Díaz 16110"
   ]
  },
  {
   "cell_type": "code",
   "execution_count": 12,
   "metadata": {},
   "outputs": [],
   "source": [
    "import numpy as np\n",
    "from scipy import linalg"
   ]
  },
  {
   "cell_type": "markdown",
   "metadata": {},
   "source": [
    "### Factorización $LU$ de matrices"
   ]
  },
  {
   "cell_type": "code",
   "execution_count": 13,
   "metadata": {},
   "outputs": [],
   "source": [
    "def factorizar(A):\n",
    "    PL, U = linalg.lu(A,True)\n",
    "    return PL, U"
   ]
  },
  {
   "cell_type": "markdown",
   "metadata": {},
   "source": [
    "## a) Matriz mal condicionada"
   ]
  },
  {
   "cell_type": "markdown",
   "metadata": {},
   "source": [
    "Definimos la **condición** de $A$ como $cond(A) := ||A||\\cdot ||A^{-1}||$"
   ]
  },
  {
   "cell_type": "code",
   "execution_count": 14,
   "metadata": {},
   "outputs": [],
   "source": [
    "def cond(A):\n",
    "    inv_A = linalg.inv(A)\n",
    "    return linalg.norm(A)*linalg.norm(inv_A)"
   ]
  },
  {
   "cell_type": "markdown",
   "metadata": {},
   "source": [
    "Consideremos la matriz $H$ mal condicionada siguiente:"
   ]
  },
  {
   "cell_type": "markdown",
   "metadata": {},
   "source": [
    "La matriz de Hilbert es una matriz $H$ de $n\\times n$ cuyas entradas están dadas por $$H_{ij} = \\frac{1}{i+j-1}$$  "
   ]
  },
  {
   "cell_type": "code",
   "execution_count": 30,
   "metadata": {},
   "outputs": [],
   "source": [
    "def getHilbertMatrix(n = 5):\n",
    "    H = np.zeros((n,n))\n",
    "    for i in range(n):\n",
    "        for j in range(n):\n",
    "            H[i,j] = 1/(i+j+1)\n",
    "    return H\n"
   ]
  },
  {
   "cell_type": "code",
   "execution_count": 38,
   "metadata": {},
   "outputs": [
    {
     "data": {
      "text/plain": [
       "array([[1.        , 0.5       , 0.33333333, 0.25      , 0.2       ],\n",
       "       [0.5       , 0.33333333, 0.25      , 0.2       , 0.16666667],\n",
       "       [0.33333333, 0.25      , 0.2       , 0.16666667, 0.14285714],\n",
       "       [0.25      , 0.2       , 0.16666667, 0.14285714, 0.125     ],\n",
       "       [0.2       , 0.16666667, 0.14285714, 0.125     , 0.11111111]])"
      ]
     },
     "execution_count": 38,
     "metadata": {},
     "output_type": "execute_result"
    }
   ],
   "source": [
    "H = getHilbertMatrix()\n",
    "H"
   ]
  },
  {
   "cell_type": "code",
   "execution_count": 39,
   "metadata": {},
   "outputs": [
    {
     "name": "stdout",
     "output_type": "stream",
     "text": [
      "cond(H):  480849.1169943362\n"
     ]
    }
   ],
   "source": [
    "print(\"cond(H): \",cond(H))"
   ]
  },
  {
   "cell_type": "markdown",
   "metadata": {},
   "source": [
    "Como la condición de $H$ es muy grande, sabemos que la matriz es mal condicionada. Por lo tanto, la factorización no es buena."
   ]
  },
  {
   "cell_type": "code",
   "execution_count": 43,
   "metadata": {},
   "outputs": [
    {
     "name": "stdout",
     "output_type": "stream",
     "text": [
      "Norma de (PL*U - H):  1.468201940443891\n",
      "PL*U - H:\n"
     ]
    },
    {
     "data": {
      "text/plain": [
       "array([[ 0.        , -0.5       , -0.33333333, -0.25      , -0.2       ,\n",
       "        -0.16666667, -0.14285714, -0.125     , -0.11111111, -0.1       ],\n",
       "       [-0.5       , -0.25      , -0.32619048, -0.11666667, -0.16666667,\n",
       "        -0.14285714, -0.125     , -0.11111111, -0.1       , -0.09090909],\n",
       "       [-0.33333333, -0.25      , -0.2       , -0.16666667, -0.14285714,\n",
       "        -0.125     , -0.11111111, -0.1       , -0.09090909, -0.08333333],\n",
       "       [-0.25      , -0.2       , -0.16666667, -0.14318182, -0.12321429,\n",
       "        -0.11013676, -0.0957483 , -0.09090909, -0.08333333, -0.07692308],\n",
       "       [-0.2       , -0.16666667, -0.14285714, -0.125     , -0.11115646,\n",
       "        -0.1       , -0.09090909, -0.08333333, -0.07692308, -0.07142857],\n",
       "       [-0.16666667, -0.14285714, -0.125     , -0.11111111, -0.1       ,\n",
       "        -0.09091008, -0.08333948, -0.07689908, -0.07142857, -0.06666667],\n",
       "       [-0.14285714, -0.125     , -0.11111111, -0.1       , -0.09090909,\n",
       "        -0.08333333, -0.07692303, -0.07142905, -0.06666611, -0.06250186],\n",
       "       [-0.125     , -0.11111111, -0.1       , -0.09090909, -0.08333333,\n",
       "        -0.07692308, -0.07142857, -0.06666667, -0.0625    , -0.05882353],\n",
       "       [-0.11111111, -0.1       , -0.09090909, -0.08333333, -0.07692308,\n",
       "        -0.07142857, -0.06666667, -0.0625    , -0.05882353, -0.05555556],\n",
       "       [-0.1       , -0.09090909, -0.08333333, -0.07692308, -0.07142857,\n",
       "        -0.06666667, -0.0625    , -0.05882353, -0.05555556, -0.05263158]])"
      ]
     },
     "execution_count": 43,
     "metadata": {},
     "output_type": "execute_result"
    }
   ],
   "source": [
    "PL, U = factorizar(H)\n",
    "print(\"Norma de (PL*U - H): \", linalg.norm(PL*U - H))\n",
    "print(\"PL*U - H:\")\n",
    "PL*U - H"
   ]
  },
  {
   "cell_type": "markdown",
   "metadata": {},
   "source": [
    "Si lo calculamos para $H$ con $n=10$ obtenemos aún resultados similares:"
   ]
  },
  {
   "cell_type": "code",
   "execution_count": 45,
   "metadata": {},
   "outputs": [
    {
     "name": "stdout",
     "output_type": "stream",
     "text": [
      "cond(H):  16331839891317.996\n",
      "Norma de (PL*U - H):  1.468201940443891\n",
      "PL*U - H:\n"
     ]
    },
    {
     "data": {
      "text/plain": [
       "array([[ 0.        , -0.5       , -0.33333333, -0.25      , -0.2       ,\n",
       "        -0.16666667, -0.14285714, -0.125     , -0.11111111, -0.1       ],\n",
       "       [-0.5       , -0.25      , -0.32619048, -0.11666667, -0.16666667,\n",
       "        -0.14285714, -0.125     , -0.11111111, -0.1       , -0.09090909],\n",
       "       [-0.33333333, -0.25      , -0.2       , -0.16666667, -0.14285714,\n",
       "        -0.125     , -0.11111111, -0.1       , -0.09090909, -0.08333333],\n",
       "       [-0.25      , -0.2       , -0.16666667, -0.14318182, -0.12321429,\n",
       "        -0.11013676, -0.0957483 , -0.09090909, -0.08333333, -0.07692308],\n",
       "       [-0.2       , -0.16666667, -0.14285714, -0.125     , -0.11115646,\n",
       "        -0.1       , -0.09090909, -0.08333333, -0.07692308, -0.07142857],\n",
       "       [-0.16666667, -0.14285714, -0.125     , -0.11111111, -0.1       ,\n",
       "        -0.09091008, -0.08333948, -0.07689908, -0.07142857, -0.06666667],\n",
       "       [-0.14285714, -0.125     , -0.11111111, -0.1       , -0.09090909,\n",
       "        -0.08333333, -0.07692303, -0.07142905, -0.06666611, -0.06250186],\n",
       "       [-0.125     , -0.11111111, -0.1       , -0.09090909, -0.08333333,\n",
       "        -0.07692308, -0.07142857, -0.06666667, -0.0625    , -0.05882353],\n",
       "       [-0.11111111, -0.1       , -0.09090909, -0.08333333, -0.07692308,\n",
       "        -0.07142857, -0.06666667, -0.0625    , -0.05882353, -0.05555556],\n",
       "       [-0.1       , -0.09090909, -0.08333333, -0.07692308, -0.07142857,\n",
       "        -0.06666667, -0.0625    , -0.05882353, -0.05555556, -0.05263158]])"
      ]
     },
     "execution_count": 45,
     "metadata": {},
     "output_type": "execute_result"
    }
   ],
   "source": [
    "H = getHilbertMatrix(10)\n",
    "print(\"cond(H): \",cond(H))\n",
    "PL, U = factorizar(H)\n",
    "print(\"Norma de (PL*U - H): \", linalg.norm(PL*U - H))\n",
    "print(\"PL*U - H:\")\n",
    "PL*U - H"
   ]
  },
  {
   "cell_type": "markdown",
   "metadata": {},
   "source": [
    "## b) Matriz de insumo producto"
   ]
  },
  {
   "cell_type": "markdown",
   "metadata": {},
   "source": [
    "\\begin{align}\n",
    "x &= Ax + y \\\\\n",
    "x - Ax &= y \\\\\n",
    "x(I - A) &= y\\\\\n",
    "x &= (I-A)^{-1}y\n",
    "\\end{align}"
   ]
  },
  {
   "cell_type": "code",
   "execution_count": 18,
   "metadata": {},
   "outputs": [],
   "source": [
    "A = np.array([[2.0,4.0,5.0],[6.0,9.0,8.0],[4.1,5.0,3.0]])"
   ]
  },
  {
   "cell_type": "markdown",
   "metadata": {},
   "source": [
    "## c) Regresión múltiple"
   ]
  },
  {
   "cell_type": "code",
   "execution_count": 19,
   "metadata": {},
   "outputs": [],
   "source": [
    "A = np.array([[2.0,4.0,5.0],[6.0,9.0,8.0],[4.1,5.0,3.0]])"
   ]
  },
  {
   "cell_type": "markdown",
   "metadata": {},
   "source": [
    "### Referencias\n",
    "* Weisstein, Eric W. \"Hilbert Matrix.\" From MathWorld--A Wolfram Web Resource. http://mathworld.wolfram.com/HilbertMatrix.html"
   ]
  },
  {
   "cell_type": "code",
   "execution_count": null,
   "metadata": {},
   "outputs": [],
   "source": []
  }
 ],
 "metadata": {
  "kernelspec": {
   "display_name": "Python 3",
   "language": "python",
   "name": "python3"
  },
  "language_info": {
   "codemirror_mode": {
    "name": "ipython",
    "version": 3
   },
   "file_extension": ".py",
   "mimetype": "text/x-python",
   "name": "python",
   "nbconvert_exporter": "python",
   "pygments_lexer": "ipython3",
   "version": "3.7.1"
  }
 },
 "nbformat": 4,
 "nbformat_minor": 2
}
